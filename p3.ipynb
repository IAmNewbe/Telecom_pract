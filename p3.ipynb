{
 "cells": [
  {
   "cell_type": "markdown",
   "metadata": {},
   "source": [
    "## Internet Network"
   ]
  },
  {
   "cell_type": "code",
   "execution_count": 5,
   "metadata": {},
   "outputs": [
    {
     "name": "stdout",
     "output_type": "stream",
     "text": [
      "         IP  Bytes  Time   TTL\n",
      "0   8.8.8.8   32.0  40.0  54.0\n",
      "1   8.8.8.8   32.0  42.0  54.0\n",
      "2   8.8.8.8   32.0  38.0  54.0\n",
      "3   8.8.8.8   32.0  35.0  54.0\n",
      "4   8.8.8.8   32.0  40.0  54.0\n",
      "..      ...    ...   ...   ...\n",
      "60  8.8.8.8   32.0  37.0  54.0\n",
      "61  8.8.8.8   32.0  47.0  54.0\n",
      "62  8.8.8.8   32.0  48.0  54.0\n",
      "63  8.8.8.8   32.0  40.0  54.0\n",
      "64  8.8.8.8   32.0  41.0  54.0\n",
      "\n",
      "[65 rows x 4 columns]\n"
     ]
    }
   ],
   "source": [
    "import pandas as pd\n",
    "\n",
    "data = \"\"\"\n",
    "Reply from 8.8.8.8: bytes=32 time=40ms TTL=54\n",
    "Reply from 8.8.8.8: bytes=32 time=42ms TTL=54\n",
    "Reply from 8.8.8.8: bytes=32 time=38ms TTL=54\n",
    "Reply from 8.8.8.8: bytes=32 time=35ms TTL=54\n",
    "Reply from 8.8.8.8: bytes=32 time=40ms TTL=54\n",
    "Reply from 8.8.8.8: bytes=32 time=33ms TTL=54\n",
    "Reply from 8.8.8.8: bytes=32 time=48ms TTL=54\n",
    "Reply from 8.8.8.8: bytes=32 time=36ms TTL=54\n",
    "Reply from 8.8.8.8: bytes=32 time=61ms TTL=54\n",
    "Reply from 8.8.8.8: bytes=32 time=40ms TTL=54\n",
    "Reply from 8.8.8.8: bytes=32 time=34ms TTL=54\n",
    "Reply from 8.8.8.8: bytes=32 time=34ms TTL=54\n",
    "Reply from 8.8.8.8: bytes=32 time=47ms TTL=54\n",
    "Reply from 8.8.8.8: bytes=32 time=37ms TTL=54\n",
    "Reply from 8.8.8.8: bytes=32 time=35ms TTL=54\n",
    "Reply from 8.8.8.8: bytes=32 time=35ms TTL=54\n",
    "Reply from 8.8.8.8: bytes=32 time=33ms TTL=54\n",
    "Reply from 8.8.8.8: bytes=32 time=36ms TTL=54\n",
    "Reply from 8.8.8.8: bytes=32 time=44ms TTL=54\n",
    "Reply from 8.8.8.8: bytes=32 time=38ms TTL=54\n",
    "Reply from 8.8.8.8: bytes=32 time=50ms TTL=54\n",
    "Reply from 8.8.8.8: bytes=32 time=37ms TTL=54\n",
    "Reply from 8.8.8.8: bytes=32 time=39ms TTL=54\n",
    "Reply from 8.8.8.8: bytes=32 time=42ms TTL=54\n",
    "Reply from 8.8.8.8: bytes=32 time=40ms TTL=54\n",
    "Reply from 8.8.8.8: bytes=32 time=42ms TTL=54\n",
    "Reply from 8.8.8.8: bytes=32 time=42ms TTL=54\n",
    "Reply from 8.8.8.8: bytes=32 time=33ms TTL=54\n",
    "Reply from 8.8.8.8: bytes=32 time=41ms TTL=54\n",
    "Reply from 8.8.8.8: bytes=32 time=49ms TTL=54\n",
    "Reply from 8.8.8.8: bytes=32 time=37ms TTL=54\n",
    "Reply from 8.8.8.8: bytes=32 time=38ms TTL=54\n",
    "Reply from 8.8.8.8: bytes=32 time=37ms TTL=54\n",
    "Reply from 8.8.8.8: bytes=32 time=42ms TTL=54\n",
    "Reply from 8.8.8.8: bytes=32 time=39ms TTL=54\n",
    "Reply from 8.8.8.8: bytes=32 time=43ms TTL=54\n",
    "Reply from 8.8.8.8: bytes=32 time=39ms TTL=54\n",
    "Reply from 8.8.8.8: bytes=32 time=34ms TTL=54\n",
    "Reply from 8.8.8.8: bytes=32 time=40ms TTL=54\n",
    "Reply from 8.8.8.8: bytes=32 time=36ms TTL=54\n",
    "Reply from 8.8.8.8: bytes=32 time=36ms TTL=54\n",
    "Reply from 8.8.8.8: bytes=32 time=36ms TTL=54\n",
    "Reply from 8.8.8.8: bytes=32 time=35ms TTL=54\n",
    "Reply from 8.8.8.8: bytes=32 time=40ms TTL=54\n",
    "Reply from 8.8.8.8: bytes=32 time=39ms TTL=54\n",
    "Reply from 8.8.8.8: bytes=32 time=46ms TTL=54\n",
    "Reply from 8.8.8.8: bytes=32 time=40ms TTL=54\n",
    "Reply from 8.8.8.8: bytes=32 time=43ms TTL=54\n",
    "Reply from 8.8.8.8: bytes=32 time=38ms TTL=54\n",
    "Reply from 8.8.8.8: bytes=32 time=35ms TTL=54\n",
    "Reply from 8.8.8.8: bytes=32 time=33ms TTL=54\n",
    "Reply from 8.8.8.8: bytes=32 time=41ms TTL=54\n",
    "Reply from 8.8.8.8: bytes=32 time=48ms TTL=54\n",
    "Reply from 8.8.8.8: bytes=32 time=33ms TTL=54\n",
    "Reply from 8.8.8.8: bytes=32 time=40ms TTL=54\n",
    "Reply from 8.8.8.8: bytes=32 time=38ms TTL=54\n",
    "Reply from 8.8.8.8: bytes=32 time=47ms TTL=54\n",
    "Reply from 8.8.8.8: bytes=32 time=42ms TTL=54\n",
    "Reply from 8.8.8.8: bytes=32 time=38ms TTL=54\n",
    "Reply from 8.8.8.8: bytes=32 time=33ms TTL=54\n",
    "Reply from 8.8.8.8: bytes=32 time=37ms TTL=54\n",
    "Reply from 8.8.8.8: bytes=32 time=47ms TTL=54\n",
    "Reply from 8.8.8.8: bytes=32 time=48ms TTL=54\n",
    "Reply from 8.8.8.8: bytes=32 time=40ms TTL=54\n",
    "Reply from 8.8.8.8: bytes=32 time=41ms TTL=54\n",
    "\"\"\"\n",
    "\n",
    "lines = data.strip().split('\\n')\n",
    "\n",
    "# Inisialisasi list untuk menyimpan kolom-kolom\n",
    "ips = []\n",
    "bytes_list = []\n",
    "times = []\n",
    "ttls = []\n",
    "\n",
    "for line in lines:\n",
    "    parts = line.split()\n",
    "    ip = parts[2][:-1]\n",
    "    bytes_info = parts[3].replace('bytes=', '')\n",
    "    time = parts[4][5:-2]\n",
    "    ttl = parts[5][4:]\n",
    "    ips.append(ip)\n",
    "    bytes_list.append(float(bytes_info))\n",
    "    times.append(float(time))\n",
    "    ttls.append(float(ttl))\n",
    "\n",
    "# Membuat DataFrame\n",
    "df = pd.DataFrame({\n",
    "    'IP': ips,\n",
    "    'Bytes': bytes_list,\n",
    "    'Time': times,\n",
    "    'TTL': ttls\n",
    "})\n",
    "\n",
    "print(df)"
   ]
  },
  {
   "cell_type": "code",
   "execution_count": 6,
   "metadata": {},
   "outputs": [
    {
     "name": "stdout",
     "output_type": "stream",
     "text": [
      "<class 'pandas.core.frame.DataFrame'>\n",
      "RangeIndex: 65 entries, 0 to 64\n",
      "Data columns (total 4 columns):\n",
      " #   Column  Non-Null Count  Dtype  \n",
      "---  ------  --------------  -----  \n",
      " 0   IP      65 non-null     object \n",
      " 1   Bytes   65 non-null     float64\n",
      " 2   Time    65 non-null     float64\n",
      " 3   TTL     65 non-null     float64\n",
      "dtypes: float64(3), object(1)\n",
      "memory usage: 2.2+ KB\n"
     ]
    }
   ],
   "source": [
    "df.info()"
   ]
  },
  {
   "cell_type": "code",
   "execution_count": 8,
   "metadata": {},
   "outputs": [
    {
     "name": "stdout",
     "output_type": "stream",
     "text": [
      "Delay rata - rata :  39.69230769230769\n",
      "Jitter :  5.20193196359258\n"
     ]
    }
   ],
   "source": [
    "import numpy as np\n",
    "import statistics\n",
    "\n",
    "delay = []\n",
    "delay = df['Time']\n",
    "delay_rata2 = df['Time'].mean()\n",
    "print('Delay rata - rata : ', delay_rata2)\n",
    "\n",
    "deviasi = statistics.stdev(delay)\n",
    "print('Jitter : ', deviasi)"
   ]
  },
  {
   "cell_type": "code",
   "execution_count": 9,
   "metadata": {},
   "outputs": [
    {
     "data": {
      "text/plain": [
       "count    65.000000\n",
       "mean     39.692308\n",
       "std       5.201932\n",
       "min      33.000000\n",
       "25%      36.000000\n",
       "50%      39.000000\n",
       "75%      42.000000\n",
       "max      61.000000\n",
       "Name: Time, dtype: float64"
      ]
     },
     "execution_count": 9,
     "metadata": {},
     "output_type": "execute_result"
    }
   ],
   "source": [
    "df['Time'].describe()"
   ]
  }
 ],
 "metadata": {
  "kernelspec": {
   "display_name": "Python 3",
   "language": "python",
   "name": "python3"
  },
  "language_info": {
   "codemirror_mode": {
    "name": "ipython",
    "version": 3
   },
   "file_extension": ".py",
   "mimetype": "text/x-python",
   "name": "python",
   "nbconvert_exporter": "python",
   "pygments_lexer": "ipython3",
   "version": "3.11.5"
  }
 },
 "nbformat": 4,
 "nbformat_minor": 2
}
